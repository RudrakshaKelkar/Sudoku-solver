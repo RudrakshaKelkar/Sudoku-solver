{
  "nbformat": 4,
  "nbformat_minor": 0,
  "metadata": {
    "colab": {
      "name": "Sudoku_Solver.ipynb",
      "provenance": [],
      "private_outputs": true,
      "collapsed_sections": []
    },
    "kernelspec": {
      "name": "python3",
      "display_name": "Python 3"
    },
    "accelerator": "GPU"
  },
  "cells": [
    {
      "cell_type": "markdown",
      "metadata": {
        "id": "R2yxtMKsBVYP",
        "colab_type": "text"
      },
      "source": [
        "# **Solve sudoku with CNN and backtracking algorithm**"
      ]
    },
    {
      "cell_type": "markdown",
      "metadata": {
        "id": "_Le8WjPxz4bE",
        "colab_type": "text"
      },
      "source": [
        "### 1. Train Convolutional Neural Network to detect digits using mnist *dataset*"
      ]
    },
    {
      "cell_type": "code",
      "metadata": {
        "id": "skmCk1YAfZeu",
        "colab_type": "code",
        "colab": {}
      },
      "source": [
        "import tensorflow as tf\n",
        "import pandas as pd\n",
        "\n",
        "#load the dataset\n",
        "(train_images, train_labels), (test_images, test_labels) = tf.keras.datasets.mnist.load_data()\n",
        "\n",
        "#standardize the pixel values from 0-255 to 0-1 - neural nets don't like large values!\n",
        "train_images = train_images.reshape(60000, 28, 28, 1).astype('float32')/255\n",
        "\n",
        "#we cannot have a non-binary array to train with, instead we will make a 'dummy' matrix using Pandas\n",
        "series = pd.Series(train_labels)\n",
        "train_labels = pd.get_dummies(series)\n",
        "\n",
        "#build the model\n",
        "model = tf.keras.models.Sequential()\n",
        "#add convolutional layers with input that matches our dataset\n",
        "model.add(tf.keras.layers.Conv2D(256, kernel_size=(3,3), input_shape=(28,28, 1)))\n",
        "model.add(tf.keras.layers.MaxPool2D((2,2)))\n",
        "model.add(tf.keras.layers.Conv2D(128, kernel_size=(3,3)))\n",
        "model.add(tf.keras.layers.MaxPool2D((2,2)))\n",
        "model.add(tf.keras.layers.Conv2D(64, kernel_size=(3,3)))\n",
        "model.add(tf.keras.layers.MaxPool2D((2,2)))\n",
        "#convert from 2D input to 1D vectors\n",
        "model.add(tf.keras.layers.Flatten())\n",
        "#finish our model with densely connected layers\n",
        "model.add(tf.keras.layers.Dense(140, activation='relu'))\n",
        "model.add(tf.keras.layers.Dropout(0.2))\n",
        "model.add(tf.keras.layers.Dense(80, activation='relu'))\n",
        "model.add(tf.keras.layers.Dropout(0.2))\n",
        "\n",
        "#output layer with 10 units (one per each class 0-9)\n",
        "model.add(tf.keras.layers.Dense(units=10, activation='sigmoid'))\n",
        "\n",
        "model.compile(loss='categorical_crossentropy', optimizer='adam', metrics=['accuracy'])\n",
        "\n",
        "model.fit(train_images,\n",
        "          train_labels, \n",
        "          epochs=5)"
      ],
      "execution_count": 0,
      "outputs": []
    },
    {
      "cell_type": "markdown",
      "metadata": {
        "id": "84dISmlg2Z4g",
        "colab_type": "text"
      },
      "source": [
        "### 2. Load and pre-process sudoku image to get the grid"
      ]
    },
    {
      "cell_type": "code",
      "metadata": {
        "id": "Vyc8VVBjhqtq",
        "colab_type": "code",
        "colab": {},
        "cellView": "form"
      },
      "source": [
        "#@title Install pytesseract \n",
        "!pip install pytesseract"
      ],
      "execution_count": 0,
      "outputs": []
    },
    {
      "cell_type": "code",
      "metadata": {
        "id": "F0VChrwChPqu",
        "colab_type": "code",
        "colab": {}
      },
      "source": [
        "import numpy as np\n",
        "import cv2\n",
        "from PIL import Image\n",
        "import pytesseract\n",
        "import matplotlib.pyplot as plt\n",
        "\n",
        "#open the image\n",
        "img = Image.open('1.png').convert('LA')\n",
        "newsize = (604, 604) \n",
        "img = img.resize(newsize) \n",
        "\n",
        "plt.figure()\n",
        "plt.imshow(img) \n",
        "plt.show() \n",
        "\n",
        "#take only the brightness value from each pixel of the image\n",
        "array = np.array(img)[:,:,0]\n",
        "\n",
        "#invert the image (this is how MNIST digits is formatted)\n",
        "array = 255-array\n",
        "\n",
        "#this will be the width and length of each sub-image\n",
        "divisor = array.shape[0]//9\n",
        "print(array.shape[0], array.shape[1])\n",
        "puzzle = []\n",
        "for i in range(9):\n",
        "    row = []\n",
        "    for j in range(9):\n",
        "        #slice image, reshape it to 28x28 (mnist reader size)\n",
        "        row.append(cv2.resize(array[i*divisor:(i+1)*divisor,\n",
        "                                    j*divisor:(j+1)*divisor][5:-5, 5:-5], #the n:-n slice removes the borders from each image\n",
        "                              dsize=(28,28), \n",
        "                              interpolation=cv2.INTER_CUBIC))\n",
        "    puzzle.append(row)"
      ],
      "execution_count": 0,
      "outputs": []
    },
    {
      "cell_type": "markdown",
      "metadata": {
        "id": "W5zX-UEZ3MLm",
        "colab_type": "text"
      },
      "source": [
        "### 3. Construct List of digits using predicted classes [0 for empty boxes]"
      ]
    },
    {
      "cell_type": "code",
      "metadata": {
        "id": "eEkCURwHkEQF",
        "colab_type": "code",
        "colab": {}
      },
      "source": [
        "#create a 9x9 array of 0s (the sudoku solver doesn't use numpy so I won't here)\n",
        "board = [\n",
        "    [0 for _ in range(9)] for _ in range(9)\n",
        "]\n",
        "\n",
        "for i, row in enumerate(puzzle):\n",
        "    for j, image in enumerate(row):\n",
        "        #if the brightness is above 6, then use the model\n",
        "        if np.mean(image) > 6:\n",
        "            #this line of code sets the puzzle's value to the model's prediction\n",
        "            #the preprocessing happens inside the predict call\n",
        "            board[i][j] = model.predict_classes(image.reshape(1,28,28,1) \\\n",
        "                                                   .astype('float32')/255)[0]\n",
        "\n",
        "def print_board(bo):\n",
        "    for i in range(len(bo)):\n",
        "        if i % 3 == 0 and i != 0:\n",
        "            print(\"- - - - - - - - - - - - - \")\n",
        "\n",
        "        for j in range(len(bo[0])):\n",
        "            if j % 3 == 0 and j != 0:\n",
        "                print(\" | \", end=\"\")\n",
        "\n",
        "            if j == 8:\n",
        "                print(bo[i][j])\n",
        "            else:\n",
        "                print(str(bo[i][j]) + \" \", end=\"\")\n",
        "\n",
        "print_board(board)"
      ],
      "execution_count": 0,
      "outputs": []
    },
    {
      "cell_type": "markdown",
      "metadata": {
        "id": "e9vi7mF13mFp",
        "colab_type": "text"
      },
      "source": [
        "### 4. Solve Sudoku using backtracking algorithm"
      ]
    },
    {
      "cell_type": "code",
      "metadata": {
        "id": "p6BQ9SyelAvP",
        "colab_type": "code",
        "colab": {}
      },
      "source": [
        "\n",
        "def solve(bo):\n",
        "    find = find_empty(bo)\n",
        "    if not find:\n",
        "        return True\n",
        "    else:\n",
        "        row, col = find\n",
        "\n",
        "    for i in range(1,10):\n",
        "        if valid(bo, i, (row, col)):\n",
        "            bo[row][col] = i\n",
        "\n",
        "            if solve(bo):\n",
        "                return True\n",
        "\n",
        "            bo[row][col] = 0\n",
        "\n",
        "    return False\n",
        "\n",
        "\n",
        "def valid(bo, num, pos):\n",
        "    # Check row\n",
        "    for i in range(len(bo[0])):\n",
        "        if bo[pos[0]][i] == num and pos[1] != i:\n",
        "            return False\n",
        "\n",
        "    # Check column\n",
        "    for i in range(len(bo)):\n",
        "        if bo[i][pos[1]] == num and pos[0] != i:\n",
        "            return False\n",
        "\n",
        "    # Check box\n",
        "    box_x = pos[1] // 3\n",
        "    box_y = pos[0] // 3\n",
        "\n",
        "    for i in range(box_y*3, box_y*3 + 3):\n",
        "        for j in range(box_x * 3, box_x*3 + 3):\n",
        "            if bo[i][j] == num and (i,j) != pos:\n",
        "                return False\n",
        "\n",
        "    return True\n",
        "\n",
        "def find_empty(bo):\n",
        "    for i in range(len(bo)):\n",
        "        for j in range(len(bo[0])):\n",
        "            if bo[i][j] == 0:\n",
        "                return (i, j)  # row, col\n",
        "\n",
        "    return None\n",
        "\n",
        "solve(board)\n",
        "print_board(board)"
      ],
      "execution_count": 0,
      "outputs": []
    }
  ]
}